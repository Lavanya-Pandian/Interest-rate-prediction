{
  "nbformat": 4,
  "nbformat_minor": 0,
  "metadata": {
    "colab": {
      "name": "Copy of Interest_rate_prediction.ipynb",
      "provenance": [],
      "collapsed_sections": []
    },
    "kernelspec": {
      "name": "python3",
      "display_name": "Python 3"
    },
    "language_info": {
      "name": "python"
    }
  },
  "cells": [
    {
      "cell_type": "markdown",
      "metadata": {
        "id": "iAOJ_LVlJ47Z"
      },
      "source": [
        "Interest rate prediction based on available features using RandomForestRegressor, Ridge regressor and SVR"
      ]
    },
    {
      "cell_type": "code",
      "metadata": {
        "id": "iwfsXViSqamE"
      },
      "source": [
        "# Standard imports\n",
        "import numpy as np\n",
        "import pandas as pd\n",
        "import matplotlib.pyplot as plt\n",
        "from sklearn.compose import ColumnTransformer\n",
        "from sklearn.impute import SimpleImputer\n",
        "from sklearn.preprocessing import OneHotEncoder\n",
        "from sklearn.pipeline import Pipeline"
      ],
      "execution_count": 52,
      "outputs": []
    },
    {
      "cell_type": "markdown",
      "metadata": {
        "id": "dxDahpEAvLxP"
      },
      "source": [
        "Get the data ready"
      ]
    },
    {
      "cell_type": "code",
      "metadata": {
        "colab": {
          "resources": {
            "http://localhost:8080/nbextensions/google.colab/files.js": {
              "data": "Ly8gQ29weXJpZ2h0IDIwMTcgR29vZ2xlIExMQwovLwovLyBMaWNlbnNlZCB1bmRlciB0aGUgQXBhY2hlIExpY2Vuc2UsIFZlcnNpb24gMi4wICh0aGUgIkxpY2Vuc2UiKTsKLy8geW91IG1heSBub3QgdXNlIHRoaXMgZmlsZSBleGNlcHQgaW4gY29tcGxpYW5jZSB3aXRoIHRoZSBMaWNlbnNlLgovLyBZb3UgbWF5IG9idGFpbiBhIGNvcHkgb2YgdGhlIExpY2Vuc2UgYXQKLy8KLy8gICAgICBodHRwOi8vd3d3LmFwYWNoZS5vcmcvbGljZW5zZXMvTElDRU5TRS0yLjAKLy8KLy8gVW5sZXNzIHJlcXVpcmVkIGJ5IGFwcGxpY2FibGUgbGF3IG9yIGFncmVlZCB0byBpbiB3cml0aW5nLCBzb2Z0d2FyZQovLyBkaXN0cmlidXRlZCB1bmRlciB0aGUgTGljZW5zZSBpcyBkaXN0cmlidXRlZCBvbiBhbiAiQVMgSVMiIEJBU0lTLAovLyBXSVRIT1VUIFdBUlJBTlRJRVMgT1IgQ09ORElUSU9OUyBPRiBBTlkgS0lORCwgZWl0aGVyIGV4cHJlc3Mgb3IgaW1wbGllZC4KLy8gU2VlIHRoZSBMaWNlbnNlIGZvciB0aGUgc3BlY2lmaWMgbGFuZ3VhZ2UgZ292ZXJuaW5nIHBlcm1pc3Npb25zIGFuZAovLyBsaW1pdGF0aW9ucyB1bmRlciB0aGUgTGljZW5zZS4KCi8qKgogKiBAZmlsZW92ZXJ2aWV3IEhlbHBlcnMgZm9yIGdvb2dsZS5jb2xhYiBQeXRob24gbW9kdWxlLgogKi8KKGZ1bmN0aW9uKHNjb3BlKSB7CmZ1bmN0aW9uIHNwYW4odGV4dCwgc3R5bGVBdHRyaWJ1dGVzID0ge30pIHsKICBjb25zdCBlbGVtZW50ID0gZG9jdW1lbnQuY3JlYXRlRWxlbWVudCgnc3BhbicpOwogIGVsZW1lbnQudGV4dENvbnRlbnQgPSB0ZXh0OwogIGZvciAoY29uc3Qga2V5IG9mIE9iamVjdC5rZXlzKHN0eWxlQXR0cmlidXRlcykpIHsKICAgIGVsZW1lbnQuc3R5bGVba2V5XSA9IHN0eWxlQXR0cmlidXRlc1trZXldOwogIH0KICByZXR1cm4gZWxlbWVudDsKfQoKLy8gTWF4IG51bWJlciBvZiBieXRlcyB3aGljaCB3aWxsIGJlIHVwbG9hZGVkIGF0IGEgdGltZS4KY29uc3QgTUFYX1BBWUxPQURfU0laRSA9IDEwMCAqIDEwMjQ7CgpmdW5jdGlvbiBfdXBsb2FkRmlsZXMoaW5wdXRJZCwgb3V0cHV0SWQpIHsKICBjb25zdCBzdGVwcyA9IHVwbG9hZEZpbGVzU3RlcChpbnB1dElkLCBvdXRwdXRJZCk7CiAgY29uc3Qgb3V0cHV0RWxlbWVudCA9IGRvY3VtZW50LmdldEVsZW1lbnRCeUlkKG91dHB1dElkKTsKICAvLyBDYWNoZSBzdGVwcyBvbiB0aGUgb3V0cHV0RWxlbWVudCB0byBtYWtlIGl0IGF2YWlsYWJsZSBmb3IgdGhlIG5leHQgY2FsbAogIC8vIHRvIHVwbG9hZEZpbGVzQ29udGludWUgZnJvbSBQeXRob24uCiAgb3V0cHV0RWxlbWVudC5zdGVwcyA9IHN0ZXBzOwoKICByZXR1cm4gX3VwbG9hZEZpbGVzQ29udGludWUob3V0cHV0SWQpOwp9CgovLyBUaGlzIGlzIHJvdWdobHkgYW4gYXN5bmMgZ2VuZXJhdG9yIChub3Qgc3VwcG9ydGVkIGluIHRoZSBicm93c2VyIHlldCksCi8vIHdoZXJlIHRoZXJlIGFyZSBtdWx0aXBsZSBhc3luY2hyb25vdXMgc3RlcHMgYW5kIHRoZSBQeXRob24gc2lkZSBpcyBnb2luZwovLyB0byBwb2xsIGZvciBjb21wbGV0aW9uIG9mIGVhY2ggc3RlcC4KLy8gVGhpcyB1c2VzIGEgUHJvbWlzZSB0byBibG9jayB0aGUgcHl0aG9uIHNpZGUgb24gY29tcGxldGlvbiBvZiBlYWNoIHN0ZXAsCi8vIHRoZW4gcGFzc2VzIHRoZSByZXN1bHQgb2YgdGhlIHByZXZpb3VzIHN0ZXAgYXMgdGhlIGlucHV0IHRvIHRoZSBuZXh0IHN0ZXAuCmZ1bmN0aW9uIF91cGxvYWRGaWxlc0NvbnRpbnVlKG91dHB1dElkKSB7CiAgY29uc3Qgb3V0cHV0RWxlbWVudCA9IGRvY3VtZW50LmdldEVsZW1lbnRCeUlkKG91dHB1dElkKTsKICBjb25zdCBzdGVwcyA9IG91dHB1dEVsZW1lbnQuc3RlcHM7CgogIGNvbnN0IG5leHQgPSBzdGVwcy5uZXh0KG91dHB1dEVsZW1lbnQubGFzdFByb21pc2VWYWx1ZSk7CiAgcmV0dXJuIFByb21pc2UucmVzb2x2ZShuZXh0LnZhbHVlLnByb21pc2UpLnRoZW4oKHZhbHVlKSA9PiB7CiAgICAvLyBDYWNoZSB0aGUgbGFzdCBwcm9taXNlIHZhbHVlIHRvIG1ha2UgaXQgYXZhaWxhYmxlIHRvIHRoZSBuZXh0CiAgICAvLyBzdGVwIG9mIHRoZSBnZW5lcmF0b3IuCiAgICBvdXRwdXRFbGVtZW50Lmxhc3RQcm9taXNlVmFsdWUgPSB2YWx1ZTsKICAgIHJldHVybiBuZXh0LnZhbHVlLnJlc3BvbnNlOwogIH0pOwp9CgovKioKICogR2VuZXJhdG9yIGZ1bmN0aW9uIHdoaWNoIGlzIGNhbGxlZCBiZXR3ZWVuIGVhY2ggYXN5bmMgc3RlcCBvZiB0aGUgdXBsb2FkCiAqIHByb2Nlc3MuCiAqIEBwYXJhbSB7c3RyaW5nfSBpbnB1dElkIEVsZW1lbnQgSUQgb2YgdGhlIGlucHV0IGZpbGUgcGlja2VyIGVsZW1lbnQuCiAqIEBwYXJhbSB7c3RyaW5nfSBvdXRwdXRJZCBFbGVtZW50IElEIG9mIHRoZSBvdXRwdXQgZGlzcGxheS4KICogQHJldHVybiB7IUl0ZXJhYmxlPCFPYmplY3Q+fSBJdGVyYWJsZSBvZiBuZXh0IHN0ZXBzLgogKi8KZnVuY3Rpb24qIHVwbG9hZEZpbGVzU3RlcChpbnB1dElkLCBvdXRwdXRJZCkgewogIGNvbnN0IGlucHV0RWxlbWVudCA9IGRvY3VtZW50LmdldEVsZW1lbnRCeUlkKGlucHV0SWQpOwogIGlucHV0RWxlbWVudC5kaXNhYmxlZCA9IGZhbHNlOwoKICBjb25zdCBvdXRwdXRFbGVtZW50ID0gZG9jdW1lbnQuZ2V0RWxlbWVudEJ5SWQob3V0cHV0SWQpOwogIG91dHB1dEVsZW1lbnQuaW5uZXJIVE1MID0gJyc7CgogIGNvbnN0IHBpY2tlZFByb21pc2UgPSBuZXcgUHJvbWlzZSgocmVzb2x2ZSkgPT4gewogICAgaW5wdXRFbGVtZW50LmFkZEV2ZW50TGlzdGVuZXIoJ2NoYW5nZScsIChlKSA9PiB7CiAgICAgIHJlc29sdmUoZS50YXJnZXQuZmlsZXMpOwogICAgfSk7CiAgfSk7CgogIGNvbnN0IGNhbmNlbCA9IGRvY3VtZW50LmNyZWF0ZUVsZW1lbnQoJ2J1dHRvbicpOwogIGlucHV0RWxlbWVudC5wYXJlbnRFbGVtZW50LmFwcGVuZENoaWxkKGNhbmNlbCk7CiAgY2FuY2VsLnRleHRDb250ZW50ID0gJ0NhbmNlbCB1cGxvYWQnOwogIGNvbnN0IGNhbmNlbFByb21pc2UgPSBuZXcgUHJvbWlzZSgocmVzb2x2ZSkgPT4gewogICAgY2FuY2VsLm9uY2xpY2sgPSAoKSA9PiB7CiAgICAgIHJlc29sdmUobnVsbCk7CiAgICB9OwogIH0pOwoKICAvLyBXYWl0IGZvciB0aGUgdXNlciB0byBwaWNrIHRoZSBmaWxlcy4KICBjb25zdCBmaWxlcyA9IHlpZWxkIHsKICAgIHByb21pc2U6IFByb21pc2UucmFjZShbcGlja2VkUHJvbWlzZSwgY2FuY2VsUHJvbWlzZV0pLAogICAgcmVzcG9uc2U6IHsKICAgICAgYWN0aW9uOiAnc3RhcnRpbmcnLAogICAgfQogIH07CgogIGNhbmNlbC5yZW1vdmUoKTsKCiAgLy8gRGlzYWJsZSB0aGUgaW5wdXQgZWxlbWVudCBzaW5jZSBmdXJ0aGVyIHBpY2tzIGFyZSBub3QgYWxsb3dlZC4KICBpbnB1dEVsZW1lbnQuZGlzYWJsZWQgPSB0cnVlOwoKICBpZiAoIWZpbGVzKSB7CiAgICByZXR1cm4gewogICAgICByZXNwb25zZTogewogICAgICAgIGFjdGlvbjogJ2NvbXBsZXRlJywKICAgICAgfQogICAgfTsKICB9CgogIGZvciAoY29uc3QgZmlsZSBvZiBmaWxlcykgewogICAgY29uc3QgbGkgPSBkb2N1bWVudC5jcmVhdGVFbGVtZW50KCdsaScpOwogICAgbGkuYXBwZW5kKHNwYW4oZmlsZS5uYW1lLCB7Zm9udFdlaWdodDogJ2JvbGQnfSkpOwogICAgbGkuYXBwZW5kKHNwYW4oCiAgICAgICAgYCgke2ZpbGUudHlwZSB8fCAnbi9hJ30pIC0gJHtmaWxlLnNpemV9IGJ5dGVzLCBgICsKICAgICAgICBgbGFzdCBtb2RpZmllZDogJHsKICAgICAgICAgICAgZmlsZS5sYXN0TW9kaWZpZWREYXRlID8gZmlsZS5sYXN0TW9kaWZpZWREYXRlLnRvTG9jYWxlRGF0ZVN0cmluZygpIDoKICAgICAgICAgICAgICAgICAgICAgICAgICAgICAgICAgICAgJ24vYSd9IC0gYCkpOwogICAgY29uc3QgcGVyY2VudCA9IHNwYW4oJzAlIGRvbmUnKTsKICAgIGxpLmFwcGVuZENoaWxkKHBlcmNlbnQpOwoKICAgIG91dHB1dEVsZW1lbnQuYXBwZW5kQ2hpbGQobGkpOwoKICAgIGNvbnN0IGZpbGVEYXRhUHJvbWlzZSA9IG5ldyBQcm9taXNlKChyZXNvbHZlKSA9PiB7CiAgICAgIGNvbnN0IHJlYWRlciA9IG5ldyBGaWxlUmVhZGVyKCk7CiAgICAgIHJlYWRlci5vbmxvYWQgPSAoZSkgPT4gewogICAgICAgIHJlc29sdmUoZS50YXJnZXQucmVzdWx0KTsKICAgICAgfTsKICAgICAgcmVhZGVyLnJlYWRBc0FycmF5QnVmZmVyKGZpbGUpOwogICAgfSk7CiAgICAvLyBXYWl0IGZvciB0aGUgZGF0YSB0byBiZSByZWFkeS4KICAgIGxldCBmaWxlRGF0YSA9IHlpZWxkIHsKICAgICAgcHJvbWlzZTogZmlsZURhdGFQcm9taXNlLAogICAgICByZXNwb25zZTogewogICAgICAgIGFjdGlvbjogJ2NvbnRpbnVlJywKICAgICAgfQogICAgfTsKCiAgICAvLyBVc2UgYSBjaHVua2VkIHNlbmRpbmcgdG8gYXZvaWQgbWVzc2FnZSBzaXplIGxpbWl0cy4gU2VlIGIvNjIxMTU2NjAuCiAgICBsZXQgcG9zaXRpb24gPSAwOwogICAgZG8gewogICAgICBjb25zdCBsZW5ndGggPSBNYXRoLm1pbihmaWxlRGF0YS5ieXRlTGVuZ3RoIC0gcG9zaXRpb24sIE1BWF9QQVlMT0FEX1NJWkUpOwogICAgICBjb25zdCBjaHVuayA9IG5ldyBVaW50OEFycmF5KGZpbGVEYXRhLCBwb3NpdGlvbiwgbGVuZ3RoKTsKICAgICAgcG9zaXRpb24gKz0gbGVuZ3RoOwoKICAgICAgY29uc3QgYmFzZTY0ID0gYnRvYShTdHJpbmcuZnJvbUNoYXJDb2RlLmFwcGx5KG51bGwsIGNodW5rKSk7CiAgICAgIHlpZWxkIHsKICAgICAgICByZXNwb25zZTogewogICAgICAgICAgYWN0aW9uOiAnYXBwZW5kJywKICAgICAgICAgIGZpbGU6IGZpbGUubmFtZSwKICAgICAgICAgIGRhdGE6IGJhc2U2NCwKICAgICAgICB9LAogICAgICB9OwoKICAgICAgbGV0IHBlcmNlbnREb25lID0gZmlsZURhdGEuYnl0ZUxlbmd0aCA9PT0gMCA/CiAgICAgICAgICAxMDAgOgogICAgICAgICAgTWF0aC5yb3VuZCgocG9zaXRpb24gLyBmaWxlRGF0YS5ieXRlTGVuZ3RoKSAqIDEwMCk7CiAgICAgIHBlcmNlbnQudGV4dENvbnRlbnQgPSBgJHtwZXJjZW50RG9uZX0lIGRvbmVgOwoKICAgIH0gd2hpbGUgKHBvc2l0aW9uIDwgZmlsZURhdGEuYnl0ZUxlbmd0aCk7CiAgfQoKICAvLyBBbGwgZG9uZS4KICB5aWVsZCB7CiAgICByZXNwb25zZTogewogICAgICBhY3Rpb246ICdjb21wbGV0ZScsCiAgICB9CiAgfTsKfQoKc2NvcGUuZ29vZ2xlID0gc2NvcGUuZ29vZ2xlIHx8IHt9OwpzY29wZS5nb29nbGUuY29sYWIgPSBzY29wZS5nb29nbGUuY29sYWIgfHwge307CnNjb3BlLmdvb2dsZS5jb2xhYi5fZmlsZXMgPSB7CiAgX3VwbG9hZEZpbGVzLAogIF91cGxvYWRGaWxlc0NvbnRpbnVlLAp9Owp9KShzZWxmKTsK",
              "ok": true,
              "headers": [
                [
                  "content-type",
                  "application/javascript"
                ]
              ],
              "status": 200,
              "status_text": ""
            }
          },
          "base_uri": "https://localhost:8080/",
          "height": 72
        },
        "id": "UaSg02-bqby8",
        "outputId": "20b88bf8-2e9b-4590-a4f0-b00541991344"
      },
      "source": [
        "# Import the dataset\n",
        "from google.colab import files\n",
        "uploaded = files.upload()"
      ],
      "execution_count": 53,
      "outputs": [
        {
          "output_type": "display_data",
          "data": {
            "text/html": [
              "\n",
              "     <input type=\"file\" id=\"files-2c6f98db-b54c-4471-a26b-e98088371c79\" name=\"files[]\" multiple disabled\n",
              "        style=\"border:none\" />\n",
              "     <output id=\"result-2c6f98db-b54c-4471-a26b-e98088371c79\">\n",
              "      Upload widget is only available when the cell has been executed in the\n",
              "      current browser session. Please rerun this cell to enable.\n",
              "      </output>\n",
              "      <script src=\"/nbextensions/google.colab/files.js\"></script> "
            ],
            "text/plain": [
              "<IPython.core.display.HTML object>"
            ]
          },
          "metadata": {}
        },
        {
          "output_type": "stream",
          "name": "stdout",
          "text": [
            "Saving Loan data.csv to Loan data (1).csv\n"
          ]
        }
      ]
    },
    {
      "cell_type": "code",
      "metadata": {
        "id": "1W0gxugbqfnB"
      },
      "source": [
        "df=pd.read_csv(\"Loan data.csv\")"
      ],
      "execution_count": 54,
      "outputs": []
    },
    {
      "cell_type": "code",
      "metadata": {
        "colab": {
          "base_uri": "https://localhost:8080/",
          "height": 162
        },
        "id": "reJP5VzKvVRz",
        "outputId": "93cc7815-76aa-43e7-c2e8-310bd789c18d"
      },
      "source": [
        "# View the data\n",
        "df.head(3)"
      ],
      "execution_count": 55,
      "outputs": [
        {
          "output_type": "execute_result",
          "data": {
            "text/html": [
              "<div>\n",
              "<style scoped>\n",
              "    .dataframe tbody tr th:only-of-type {\n",
              "        vertical-align: middle;\n",
              "    }\n",
              "\n",
              "    .dataframe tbody tr th {\n",
              "        vertical-align: top;\n",
              "    }\n",
              "\n",
              "    .dataframe thead th {\n",
              "        text-align: right;\n",
              "    }\n",
              "</style>\n",
              "<table border=\"1\" class=\"dataframe\">\n",
              "  <thead>\n",
              "    <tr style=\"text-align: right;\">\n",
              "      <th></th>\n",
              "      <th>ID</th>\n",
              "      <th>Amount.Requested</th>\n",
              "      <th>Interest.Rate</th>\n",
              "      <th>Loan.Length</th>\n",
              "      <th>Loan.Purpose</th>\n",
              "      <th>Debt.To.Income.Ratio</th>\n",
              "      <th>State</th>\n",
              "      <th>Home.Ownership</th>\n",
              "      <th>Monthly.Income</th>\n",
              "      <th>FICO.Range</th>\n",
              "      <th>Open.CREDIT.Lines</th>\n",
              "      <th>Revolving.CREDIT.Balance</th>\n",
              "      <th>Inquiries.in.the.Last.6.Months</th>\n",
              "      <th>Employment.Length</th>\n",
              "    </tr>\n",
              "  </thead>\n",
              "  <tbody>\n",
              "    <tr>\n",
              "      <th>0</th>\n",
              "      <td>81174.0</td>\n",
              "      <td>20000</td>\n",
              "      <td>8.90%</td>\n",
              "      <td>36 months</td>\n",
              "      <td>debt_consolidation</td>\n",
              "      <td>14.90%</td>\n",
              "      <td>SC</td>\n",
              "      <td>MORTGAGE</td>\n",
              "      <td>6541.67</td>\n",
              "      <td>735-739</td>\n",
              "      <td>14</td>\n",
              "      <td>14272</td>\n",
              "      <td>2.0</td>\n",
              "      <td>&lt; 1 year</td>\n",
              "    </tr>\n",
              "    <tr>\n",
              "      <th>1</th>\n",
              "      <td>99592.0</td>\n",
              "      <td>19200</td>\n",
              "      <td>12.12%</td>\n",
              "      <td>36 months</td>\n",
              "      <td>debt_consolidation</td>\n",
              "      <td>28.36%</td>\n",
              "      <td>TX</td>\n",
              "      <td>MORTGAGE</td>\n",
              "      <td>4583.33</td>\n",
              "      <td>715-719</td>\n",
              "      <td>12</td>\n",
              "      <td>11140</td>\n",
              "      <td>1.0</td>\n",
              "      <td>2 years</td>\n",
              "    </tr>\n",
              "    <tr>\n",
              "      <th>2</th>\n",
              "      <td>80059.0</td>\n",
              "      <td>35000</td>\n",
              "      <td>21.98%</td>\n",
              "      <td>60 months</td>\n",
              "      <td>debt_consolidation</td>\n",
              "      <td>23.81%</td>\n",
              "      <td>CA</td>\n",
              "      <td>MORTGAGE</td>\n",
              "      <td>NaN</td>\n",
              "      <td>690-694</td>\n",
              "      <td>14</td>\n",
              "      <td>21977</td>\n",
              "      <td>1.0</td>\n",
              "      <td>2 years</td>\n",
              "    </tr>\n",
              "  </tbody>\n",
              "</table>\n",
              "</div>"
            ],
            "text/plain": [
              "        ID Amount.Requested  ... Inquiries.in.the.Last.6.Months Employment.Length\n",
              "0  81174.0            20000  ...                            2.0          < 1 year\n",
              "1  99592.0            19200  ...                            1.0           2 years\n",
              "2  80059.0            35000  ...                            1.0           2 years\n",
              "\n",
              "[3 rows x 14 columns]"
            ]
          },
          "metadata": {},
          "execution_count": 55
        }
      ]
    },
    {
      "cell_type": "code",
      "metadata": {
        "colab": {
          "base_uri": "https://localhost:8080/"
        },
        "id": "I0BM-Y1NqjvC",
        "outputId": "a27b11c2-3bde-4532-dc59-05add20023a3"
      },
      "source": [
        "# View the data info\n",
        "df.info()"
      ],
      "execution_count": 56,
      "outputs": [
        {
          "output_type": "stream",
          "name": "stdout",
          "text": [
            "<class 'pandas.core.frame.DataFrame'>\n",
            "RangeIndex: 2500 entries, 0 to 2499\n",
            "Data columns (total 14 columns):\n",
            " #   Column                          Non-Null Count  Dtype  \n",
            "---  ------                          --------------  -----  \n",
            " 0   ID                              2499 non-null   float64\n",
            " 1   Amount.Requested                2499 non-null   object \n",
            " 2   Interest.Rate                   2500 non-null   object \n",
            " 3   Loan.Length                     2499 non-null   object \n",
            " 4   Loan.Purpose                    2499 non-null   object \n",
            " 5   Debt.To.Income.Ratio            2499 non-null   object \n",
            " 6   State                           2499 non-null   object \n",
            " 7   Home.Ownership                  2499 non-null   object \n",
            " 8   Monthly.Income                  2491 non-null   float64\n",
            " 9   FICO.Range                      2500 non-null   object \n",
            " 10  Open.CREDIT.Lines               2496 non-null   object \n",
            " 11  Revolving.CREDIT.Balance        2494 non-null   object \n",
            " 12  Inquiries.in.the.Last.6.Months  2494 non-null   float64\n",
            " 13  Employment.Length               2422 non-null   object \n",
            "dtypes: float64(3), object(11)\n",
            "memory usage: 273.6+ KB\n"
          ]
        }
      ]
    },
    {
      "cell_type": "code",
      "metadata": {
        "colab": {
          "base_uri": "https://localhost:8080/"
        },
        "id": "zRzhZL_DPAaJ",
        "outputId": "bc81c381-6a19-4d4f-f80c-b554560bd382"
      },
      "source": [
        "df.columns"
      ],
      "execution_count": 58,
      "outputs": [
        {
          "output_type": "execute_result",
          "data": {
            "text/plain": [
              "Index(['ID', 'Amount.Requested', 'Interest.Rate', 'Loan.Length',\n",
              "       'Loan.Purpose', 'Debt.To.Income.Ratio', 'State', 'Home.Ownership',\n",
              "       'Monthly.Income', 'FICO.Range', 'Open.CREDIT.Lines',\n",
              "       'Revolving.CREDIT.Balance', 'Inquiries.in.the.Last.6.Months',\n",
              "       'Employment.Length'],\n",
              "      dtype='object')"
            ]
          },
          "metadata": {},
          "execution_count": 58
        }
      ]
    },
    {
      "cell_type": "code",
      "metadata": {
        "colab": {
          "base_uri": "https://localhost:8080/"
        },
        "id": "R-ypyEDKFvr8",
        "outputId": "4ecf55c8-226a-4aaf-ce19-c3f6c65b4ec9"
      },
      "source": [
        "# Analyze the purpose of the loan\n",
        "df['Loan.Purpose'].value_counts()*100/len(df)\n",
        "\n",
        "# Observations: over 52% of the loans are taken for debt consolidation and 18% for credit card bill payment"
      ],
      "execution_count": 59,
      "outputs": [
        {
          "output_type": "execute_result",
          "data": {
            "text/plain": [
              "debt_consolidation    52.28\n",
              "credit_card           17.76\n",
              "other                  8.00\n",
              "home_improvement       6.08\n",
              "major_purchase         4.04\n",
              "small_business         3.48\n",
              "car                    2.00\n",
              "wedding                1.56\n",
              "medical                1.20\n",
              "moving                 1.16\n",
              "vacation               0.84\n",
              "house                  0.80\n",
              "educational            0.60\n",
              "renewable_energy       0.16\n",
              "Name: Loan.Purpose, dtype: float64"
            ]
          },
          "metadata": {},
          "execution_count": 59
        }
      ]
    },
    {
      "cell_type": "code",
      "metadata": {
        "colab": {
          "base_uri": "https://localhost:8080/",
          "height": 385
        },
        "id": "VHafHDsKm4mi",
        "outputId": "5130e775-07f8-4a35-f91f-436483da8bbf"
      },
      "source": [
        "import seaborn as sns\n",
        "sns.countplot(x='Loan.Purpose', data=df)\n",
        "plt.title(\"Loan purpose count\")\n",
        "plt.xticks(rotation=90);"
      ],
      "execution_count": 60,
      "outputs": [
        {
          "output_type": "display_data",
          "data": {
            "image/png": "[encoded data removed]",
            "text/plain": [
              "<Figure size 432x288 with 1 Axes>"
            ]
          },
          "metadata": {}
        }
      ]
    },
    {
      "cell_type": "markdown",
      "metadata": {
        "id": "oKO3hwNUv8yd"
      },
      "source": [
        "Cleaning the dataset"
      ]
    },
    {
      "cell_type": "code",
      "metadata": {
        "id": "xArDa3YRqpDH"
      },
      "source": [
        "df['Debt.To.Income.Ratio'] = df['Debt.To.Income.Ratio'].str.rstrip('%') # remove the special characters from the data (%)\n",
        "df['Interest.Rate'] = df['Interest.Rate'].str.rstrip('%') # remove the special characters from the data (%)\n",
        "df['Loan.Length'] = df['Loan.Length'].str.extract('(\\d+)',expand=False) # remove the string (months)\n"
      ],
      "execution_count": 61,
      "outputs": []
    },
    {
      "cell_type": "code",
      "metadata": {
        "colab": {
          "base_uri": "https://localhost:8080/"
        },
        "id": "He0JQhEpqsY_",
        "outputId": "3ea064e4-81d8-4c99-81ad-46f5e8e74edd"
      },
      "source": [
        "# Replacing the employment length with 10+years as 10 and <1y yr as 0\n",
        "mapping_dict = {\n",
        "    \"Employment.Length\":{\n",
        "        \"10+ years\": 10,\n",
        "        \"10+ years\": 10,\n",
        "        \"9 years\": 9,\n",
        "        \"8 years\": 8,\n",
        "        \"7 years\": 7,\n",
        "        \"6 years\": 6,\n",
        "        \"5 years\": 5,\n",
        "        \"4 years\": 4,\n",
        "        \"3 years\": 3,\n",
        "        \"2 years\": 2,\n",
        "        \"1 year\": 1,\n",
        "        \"< 1 year\": 0,\n",
        "        \"n/a\": 0\n",
        "    }\n",
        "}\n",
        "df = df.replace(mapping_dict)\n",
        "df['Employment.Length'].head() \n"
      ],
      "execution_count": 62,
      "outputs": [
        {
          "output_type": "execute_result",
          "data": {
            "text/plain": [
              "0    0\n",
              "1    2\n",
              "2    2\n",
              "3    5\n",
              "4    9\n",
              "Name: Employment.Length, dtype: object"
            ]
          },
          "metadata": {},
          "execution_count": 62
        }
      ]
    },
    {
      "cell_type": "markdown",
      "metadata": {
        "id": "LOfftyHhrKrW"
      },
      "source": [
        "\n",
        "FICO scores are generally credit scores issued by banks, rather than focussing on the high and low range, average FICO score has been generated for each ID.\n",
        "\n"
      ]
    },
    {
      "cell_type": "code",
      "metadata": {
        "id": "LcZS3TGAquwX"
      },
      "source": [
        "#FICO scores are generally credit scores issued by banks, rather than focussing on the high and low range, the average FICO score is generated for each applicant\n",
        "# Splitting the FICO range into high and low\n",
        "df[['FICO_low', 'FICO_high']] = df['FICO.Range'].str.split('-', 1, expand=True)"
      ],
      "execution_count": 63,
      "outputs": []
    },
    {
      "cell_type": "code",
      "metadata": {
        "id": "bNFJevysqxSY"
      },
      "source": [
        "# Drop the original column\n",
        "df=df.drop(['FICO.Range'], axis=1)\n"
      ],
      "execution_count": 64,
      "outputs": []
    },
    {
      "cell_type": "code",
      "metadata": {
        "id": "RrLHMmDgqySI"
      },
      "source": [
        "df[['FICO_high']] = df['FICO_high'].astype(float)\n",
        "df[['FICO_low']] = df['FICO_low'].astype(float)"
      ],
      "execution_count": 65,
      "outputs": []
    },
    {
      "cell_type": "code",
      "metadata": {
        "id": "axmhDxokq0yp"
      },
      "source": [
        "# Generating the average FICO range\n",
        "df['FICO.average'] = (df['FICO_high']+df['FICO_low'])/2"
      ],
      "execution_count": 66,
      "outputs": []
    },
    {
      "cell_type": "code",
      "metadata": {
        "colab": {
          "base_uri": "https://localhost:8080/",
          "height": 162
        },
        "id": "dP-OdiXlq18l",
        "outputId": "11cd24aa-623e-4b3d-f1a4-ffd89fdd0126"
      },
      "source": [
        "drop_columns=['FICO_high','FICO_low']\n",
        "df = df.drop(drop_columns,axis=1)\n",
        "df.head(3)"
      ],
      "execution_count": 67,
      "outputs": [
        {
          "output_type": "execute_result",
          "data": {
            "text/html": [
              "<div>\n",
              "<style scoped>\n",
              "    .dataframe tbody tr th:only-of-type {\n",
              "        vertical-align: middle;\n",
              "    }\n",
              "\n",
              "    .dataframe tbody tr th {\n",
              "        vertical-align: top;\n",
              "    }\n",
              "\n",
              "    .dataframe thead th {\n",
              "        text-align: right;\n",
              "    }\n",
              "</style>\n",
              "<table border=\"1\" class=\"dataframe\">\n",
              "  <thead>\n",
              "    <tr style=\"text-align: right;\">\n",
              "      <th></th>\n",
              "      <th>ID</th>\n",
              "      <th>Amount.Requested</th>\n",
              "      <th>Interest.Rate</th>\n",
              "      <th>Loan.Length</th>\n",
              "      <th>Loan.Purpose</th>\n",
              "      <th>Debt.To.Income.Ratio</th>\n",
              "      <th>State</th>\n",
              "      <th>Home.Ownership</th>\n",
              "      <th>Monthly.Income</th>\n",
              "      <th>Open.CREDIT.Lines</th>\n",
              "      <th>Revolving.CREDIT.Balance</th>\n",
              "      <th>Inquiries.in.the.Last.6.Months</th>\n",
              "      <th>Employment.Length</th>\n",
              "      <th>FICO.average</th>\n",
              "    </tr>\n",
              "  </thead>\n",
              "  <tbody>\n",
              "    <tr>\n",
              "      <th>0</th>\n",
              "      <td>81174.0</td>\n",
              "      <td>20000</td>\n",
              "      <td>8.90</td>\n",
              "      <td>36</td>\n",
              "      <td>debt_consolidation</td>\n",
              "      <td>14.90</td>\n",
              "      <td>SC</td>\n",
              "      <td>MORTGAGE</td>\n",
              "      <td>6541.67</td>\n",
              "      <td>14</td>\n",
              "      <td>14272</td>\n",
              "      <td>2.0</td>\n",
              "      <td>0</td>\n",
              "      <td>737.0</td>\n",
              "    </tr>\n",
              "    <tr>\n",
              "      <th>1</th>\n",
              "      <td>99592.0</td>\n",
              "      <td>19200</td>\n",
              "      <td>12.12</td>\n",
              "      <td>36</td>\n",
              "      <td>debt_consolidation</td>\n",
              "      <td>28.36</td>\n",
              "      <td>TX</td>\n",
              "      <td>MORTGAGE</td>\n",
              "      <td>4583.33</td>\n",
              "      <td>12</td>\n",
              "      <td>11140</td>\n",
              "      <td>1.0</td>\n",
              "      <td>2</td>\n",
              "      <td>717.0</td>\n",
              "    </tr>\n",
              "    <tr>\n",
              "      <th>2</th>\n",
              "      <td>80059.0</td>\n",
              "      <td>35000</td>\n",
              "      <td>21.98</td>\n",
              "      <td>60</td>\n",
              "      <td>debt_consolidation</td>\n",
              "      <td>23.81</td>\n",
              "      <td>CA</td>\n",
              "      <td>MORTGAGE</td>\n",
              "      <td>NaN</td>\n",
              "      <td>14</td>\n",
              "      <td>21977</td>\n",
              "      <td>1.0</td>\n",
              "      <td>2</td>\n",
              "      <td>692.0</td>\n",
              "    </tr>\n",
              "  </tbody>\n",
              "</table>\n",
              "</div>"
            ],
            "text/plain": [
              "        ID Amount.Requested  ... Employment.Length FICO.average\n",
              "0  81174.0            20000  ...                 0        737.0\n",
              "1  99592.0            19200  ...                 2        717.0\n",
              "2  80059.0            35000  ...                 2        692.0\n",
              "\n",
              "[3 rows x 14 columns]"
            ]
          },
          "metadata": {},
          "execution_count": 67
        }
      ]
    },
    {
      "cell_type": "code",
      "metadata": {
        "colab": {
          "base_uri": "https://localhost:8080/"
        },
        "id": "Z_KgS47Es-Gy",
        "outputId": "c721197d-871f-44e5-e424-ab4c32fc755d"
      },
      "source": [
        "df.columns"
      ],
      "execution_count": 68,
      "outputs": [
        {
          "output_type": "execute_result",
          "data": {
            "text/plain": [
              "Index(['ID', 'Amount.Requested', 'Interest.Rate', 'Loan.Length',\n",
              "       'Loan.Purpose', 'Debt.To.Income.Ratio', 'State', 'Home.Ownership',\n",
              "       'Monthly.Income', 'Open.CREDIT.Lines', 'Revolving.CREDIT.Balance',\n",
              "       'Inquiries.in.the.Last.6.Months', 'Employment.Length', 'FICO.average'],\n",
              "      dtype='object')"
            ]
          },
          "metadata": {},
          "execution_count": 68
        }
      ]
    },
    {
      "cell_type": "markdown",
      "metadata": {
        "id": "p12v6_5DrACw"
      },
      "source": [
        "As published in the article by Emekter et al., (2014), FICO scores are calculated based on revolving credit balance, debt to income ration, open credit lines, hence dropping the unwanted columns\n"
      ]
    },
    {
      "cell_type": "code",
      "metadata": {
        "colab": {
          "base_uri": "https://localhost:8080/",
          "height": 162
        },
        "id": "MjbKvwmtq3i3",
        "outputId": "dbd704e9-3062-43da-bb6e-57be6aa71ae6"
      },
      "source": [
        "#Dropping revolving credit balance, debt to income ratio, open credit lines as FICO range is calculated based on these information, droppping ID as it doesnt have impact on the output\n",
        "drop_columns=['Revolving.CREDIT.Balance','Debt.To.Income.Ratio','Open.CREDIT.Lines','ID']\n",
        "df = df.drop(drop_columns,axis=1)\n",
        "df.head(3)"
      ],
      "execution_count": 69,
      "outputs": [
        {
          "output_type": "execute_result",
          "data": {
            "text/html": [
              "<div>\n",
              "<style scoped>\n",
              "    .dataframe tbody tr th:only-of-type {\n",
              "        vertical-align: middle;\n",
              "    }\n",
              "\n",
              "    .dataframe tbody tr th {\n",
              "        vertical-align: top;\n",
              "    }\n",
              "\n",
              "    .dataframe thead th {\n",
              "        text-align: right;\n",
              "    }\n",
              "</style>\n",
              "<table border=\"1\" class=\"dataframe\">\n",
              "  <thead>\n",
              "    <tr style=\"text-align: right;\">\n",
              "      <th></th>\n",
              "      <th>Amount.Requested</th>\n",
              "      <th>Interest.Rate</th>\n",
              "      <th>Loan.Length</th>\n",
              "      <th>Loan.Purpose</th>\n",
              "      <th>State</th>\n",
              "      <th>Home.Ownership</th>\n",
              "      <th>Monthly.Income</th>\n",
              "      <th>Inquiries.in.the.Last.6.Months</th>\n",
              "      <th>Employment.Length</th>\n",
              "      <th>FICO.average</th>\n",
              "    </tr>\n",
              "  </thead>\n",
              "  <tbody>\n",
              "    <tr>\n",
              "      <th>0</th>\n",
              "      <td>20000</td>\n",
              "      <td>8.90</td>\n",
              "      <td>36</td>\n",
              "      <td>debt_consolidation</td>\n",
              "      <td>SC</td>\n",
              "      <td>MORTGAGE</td>\n",
              "      <td>6541.67</td>\n",
              "      <td>2.0</td>\n",
              "      <td>0</td>\n",
              "      <td>737.0</td>\n",
              "    </tr>\n",
              "    <tr>\n",
              "      <th>1</th>\n",
              "      <td>19200</td>\n",
              "      <td>12.12</td>\n",
              "      <td>36</td>\n",
              "      <td>debt_consolidation</td>\n",
              "      <td>TX</td>\n",
              "      <td>MORTGAGE</td>\n",
              "      <td>4583.33</td>\n",
              "      <td>1.0</td>\n",
              "      <td>2</td>\n",
              "      <td>717.0</td>\n",
              "    </tr>\n",
              "    <tr>\n",
              "      <th>2</th>\n",
              "      <td>35000</td>\n",
              "      <td>21.98</td>\n",
              "      <td>60</td>\n",
              "      <td>debt_consolidation</td>\n",
              "      <td>CA</td>\n",
              "      <td>MORTGAGE</td>\n",
              "      <td>NaN</td>\n",
              "      <td>1.0</td>\n",
              "      <td>2</td>\n",
              "      <td>692.0</td>\n",
              "    </tr>\n",
              "  </tbody>\n",
              "</table>\n",
              "</div>"
            ],
            "text/plain": [
              "  Amount.Requested Interest.Rate  ... Employment.Length FICO.average\n",
              "0            20000          8.90  ...                 0        737.0\n",
              "1            19200         12.12  ...                 2        717.0\n",
              "2            35000         21.98  ...                 2        692.0\n",
              "\n",
              "[3 rows x 10 columns]"
            ]
          },
          "metadata": {},
          "execution_count": 69
        }
      ]
    },
    {
      "cell_type": "code",
      "metadata": {
        "id": "0C3OZ25Gq5-q"
      },
      "source": [
        "# Replacing the special characters with 0\n",
        "df['Amount.Requested'] = df ['Amount.Requested'].str.replace('.','0')\n",
        "df['State'] = df ['State'].str.replace('.','0')\n"
      ],
      "execution_count": 71,
      "outputs": []
    },
    {
      "cell_type": "code",
      "metadata": {
        "id": "_SnU3-VUq94G"
      },
      "source": [
        "df['Amount.Requested'] = df['Amount.Requested'].astype(float)\n",
        "df[['Interest.Rate']] = df['Interest.Rate'].astype(float)\n"
      ],
      "execution_count": 72,
      "outputs": []
    },
    {
      "cell_type": "code",
      "metadata": {
        "id": "DklYA2Xpq-4N"
      },
      "source": [
        "# Converting loan length, loan purpose, state, home ownership and employment length as categories \n",
        "for label, content in df.items():\n",
        "  if pd.api.types.is_string_dtype(content):\n",
        "    df[label]=content.astype(\"category\").cat.as_ordered()"
      ],
      "execution_count": 73,
      "outputs": []
    },
    {
      "cell_type": "code",
      "metadata": {
        "colab": {
          "base_uri": "https://localhost:8080/"
        },
        "id": "9aDeLOtprCN9",
        "outputId": "9201eefc-770c-4be0-c605-382717b0d82b"
      },
      "source": [
        "df.info()"
      ],
      "execution_count": 74,
      "outputs": [
        {
          "output_type": "stream",
          "name": "stdout",
          "text": [
            "<class 'pandas.core.frame.DataFrame'>\n",
            "RangeIndex: 2500 entries, 0 to 2499\n",
            "Data columns (total 10 columns):\n",
            " #   Column                          Non-Null Count  Dtype   \n",
            "---  ------                          --------------  -----   \n",
            " 0   Amount.Requested                2499 non-null   float64 \n",
            " 1   Interest.Rate                   2500 non-null   float64 \n",
            " 2   Loan.Length                     2498 non-null   category\n",
            " 3   Loan.Purpose                    2499 non-null   category\n",
            " 4   State                           2499 non-null   category\n",
            " 5   Home.Ownership                  2499 non-null   category\n",
            " 6   Monthly.Income                  2491 non-null   float64 \n",
            " 7   Inquiries.in.the.Last.6.Months  2494 non-null   float64 \n",
            " 8   Employment.Length               2422 non-null   category\n",
            " 9   FICO.average                    2499 non-null   float64 \n",
            "dtypes: category(5), float64(5)\n",
            "memory usage: 113.0 KB\n"
          ]
        }
      ]
    },
    {
      "cell_type": "code",
      "metadata": {
        "colab": {
          "base_uri": "https://localhost:8080/",
          "height": 370
        },
        "id": "5mjj9szzJzJL",
        "outputId": "969cd804-27b5-4505-d3ea-7ed07ce8fab0"
      },
      "source": [
        "# Univariate analysis on amount requested\n",
        "\n",
        "plt.figure(figsize=(15,8),facecolor='b')\n",
        "sns.set_style(\"dark\")\n",
        "# subplot 1\n",
        "plt.subplot(2, 2, 1)\n",
        "ax = sns.distplot(df['Amount.Requested'],rug = True)\n",
        "ax.set_title('Amount.Requested - Distribution Plot',fontsize=16,color='w')\n",
        "ax.set_xlabel('Amount.Requested',fontsize=14,color='w')\n",
        "# subplot 2\n",
        "plt.subplot(2, 2, 2)\n",
        "ax = sns.boxplot(y=df['Amount.Requested'])\n",
        "ax.set_title('Amount.Requested - Box Plot',fontsize=16,color='w')\n",
        "ax.set_ylabel('Amount.Requested',fontsize=14,color='w')\n",
        "plt.show()\n",
        "\n",
        "# Observations: Plots demonstrates that most of the Loan amounts are in range of 6000 - 15000"
      ],
      "execution_count": 75,
      "outputs": [
        {
          "output_type": "stream",
          "name": "stderr",
          "text": [
            "/usr/local/lib/python3.7/dist-packages/seaborn/distributions.py:2619: FutureWarning: `distplot` is a deprecated function and will be removed in a future version. Please adapt your code to use either `displot` (a figure-level function with similar flexibility) or `histplot` (an axes-level function for histograms).\n",
            "  warnings.warn(msg, FutureWarning)\n",
            "/usr/local/lib/python3.7/dist-packages/seaborn/distributions.py:2103: FutureWarning: The `axis` variable is no longer used and will be removed. Instead, assign variables directly to `x` or `y`.\n",
            "  warnings.warn(msg, FutureWarning)\n"
          ]
        },
        {
          "output_type": "display_data",
          "data": {
            "image/png": "[encoded data removed]",
            "text/plain": [
              "<Figure size 1080x576 with 2 Axes>"
            ]
          },
          "metadata": {}
        }
      ]
    },
    {
      "cell_type": "code",
      "metadata": {
        "colab": {
          "base_uri": "https://localhost:8080/",
          "height": 370
        },
        "id": "sH51Yxz2K2hn",
        "outputId": "0d4d3722-292d-4a89-ba3e-fc8395e04d24"
      },
      "source": [
        " #Univariate analysis on interest rate\n",
        "\n",
        "plt.figure(figsize=(15,8),facecolor='b')\n",
        "sns.set_style(\"dark\")\n",
        "# subplot 1\n",
        "plt.subplot(2, 2, 1)\n",
        "ax = sns.distplot(df['Interest.Rate'],rug = True)\n",
        "ax.set_title('Interest.Rate - Distribution Plot',fontsize=16,color='w')\n",
        "ax.set_xlabel('Interest.Rate',fontsize=14,color='w')\n",
        "# subplot 2\n",
        "plt.subplot(2, 2, 2)\n",
        "ax = sns.boxplot(y=df['Interest.Rate'])\n",
        "ax.set_title('Interest.Rate - Box Plot',fontsize=16,color='w')\n",
        "ax.set_ylabel('Interest.Rate',fontsize=14,color='w')\n",
        "plt.show()\n",
        "\n",
        "# Observations: Plots ilustrates that most of the Interest Rates are in range of 10% - 15%"
      ],
      "execution_count": 76,
      "outputs": [
        {
          "output_type": "stream",
          "name": "stderr",
          "text": [
            "/usr/local/lib/python3.7/dist-packages/seaborn/distributions.py:2619: FutureWarning: `distplot` is a deprecated function and will be removed in a future version. Please adapt your code to use either `displot` (a figure-level function with similar flexibility) or `histplot` (an axes-level function for histograms).\n",
            "  warnings.warn(msg, FutureWarning)\n",
            "/usr/local/lib/python3.7/dist-packages/seaborn/distributions.py:2103: FutureWarning: The `axis` variable is no longer used and will be removed. Instead, assign variables directly to `x` or `y`.\n",
            "  warnings.warn(msg, FutureWarning)\n"
          ]
        },
        {
          "output_type": "display_data",
          "data": {
            "image/png": "[encoded data removed]",
            "text/plain": [
              "<Figure size 1080x576 with 2 Axes>"
            ]
          },
          "metadata": {}
        }
      ]
    },
    {
      "cell_type": "code",
      "metadata": {
        "colab": {
          "base_uri": "https://localhost:8080/",
          "height": 370
        },
        "id": "9LzHeaHiMMok",
        "outputId": "20d9e2dc-4835-4c03-efe2-15ec82b1f7d4"
      },
      "source": [
        "# Univariate analysis on monthly income\n",
        "\n",
        "plt.figure(figsize=(15,8),facecolor='b')\n",
        "sns.set_style(\"dark\")\n",
        "# subplot 1\n",
        "plt.subplot(2, 2, 1)\n",
        "ax = sns.distplot(df['Monthly.Income'],rug = True)\n",
        "ax.set_title('Monthly.Income - Distribution Plot',fontsize=16,color='b')\n",
        "ax.set_xlabel('Monthly.Income',fontsize=14,color='w')\n",
        "# subplot 2\n",
        "plt.subplot(2, 2, 2)\n",
        "plt.title('Monthly.Income - Box Plot')\n",
        "ax = sns.boxplot(y=df['Monthly.Income'])\n",
        "ax.set_title('Monthly.Income - Box Plot',fontsize=16,color='w')\n",
        "ax.set_ylabel('Monthly.Income',fontsize=14,color='w')\n",
        "plt.show()\n",
        "\n",
        "# Observations: plot demonstrates that most of the borrower's monthly incomes are within the range of 0-20000"
      ],
      "execution_count": 77,
      "outputs": [
        {
          "output_type": "stream",
          "name": "stderr",
          "text": [
            "/usr/local/lib/python3.7/dist-packages/seaborn/distributions.py:2619: FutureWarning: `distplot` is a deprecated function and will be removed in a future version. Please adapt your code to use either `displot` (a figure-level function with similar flexibility) or `histplot` (an axes-level function for histograms).\n",
            "  warnings.warn(msg, FutureWarning)\n",
            "/usr/local/lib/python3.7/dist-packages/seaborn/distributions.py:2103: FutureWarning: The `axis` variable is no longer used and will be removed. Instead, assign variables directly to `x` or `y`.\n",
            "  warnings.warn(msg, FutureWarning)\n"
          ]
        },
        {
          "output_type": "display_data",
          "data": {
            "image/png": "[encoded data removed]",
            "text/plain": [
              "<Figure size 1080x576 with 2 Axes>"
            ]
          },
          "metadata": {}
        }
      ]
    },
    {
      "cell_type": "code",
      "metadata": {
        "colab": {
          "base_uri": "https://localhost:8080/",
          "height": 519
        },
        "id": "pPHB9Y6UPw0P",
        "outputId": "db4e5365-e492-4024-d8ed-1cfef58cc138"
      },
      "source": [
        "# Amount requested vs interest rate\n",
        "\n",
        "fig, ax1 = plt.subplots(figsize=(12, 8),facecolor='b')\n",
        "ax1.set_title('Amount requested vs Interest rate',fontsize=15,color = 'w')\n",
        "ax1=sns.barplot(x='Interest.Rate', y='Amount.Requested', data=df)\n",
        "ax1.set_ylabel('Amount.Requested',fontsize=14,color = 'w')\n",
        "ax1.set_xlabel('Interest.Rate',fontsize=14,color='w')\n",
        "plt.show()"
      ],
      "execution_count": 78,
      "outputs": [
        {
          "output_type": "display_data",
          "data": {
            "image/png": "[encoded data removed]",
            "text/plain": [
              "<Figure size 864x576 with 1 Axes>"
            ]
          },
          "metadata": {}
        }
      ]
    },
    {
      "cell_type": "code",
      "metadata": {
        "colab": {
          "base_uri": "https://localhost:8080/",
          "height": 410
        },
        "id": "gL9WJaQNQpKW",
        "outputId": "97815008-d0d7-4dd2-944c-9257ad8229e3"
      },
      "source": [
        "# Lets draw bar plots on state vs interest rate\n",
        "\n",
        "fig, ax1 = plt.subplots(figsize=(16, 6),facecolor='b')\n",
        "ax1.set_title('State vs Interest rate',fontsize=15,color='w')\n",
        "ax1=sns.barplot(x='State', y='Interest.Rate', data=df)\n",
        "ax1.set_xlabel('State',fontsize=14,color='w')\n",
        "ax1.set_ylabel('Interest.Rate',fontsize=14,color = 'w')\n",
        "plt.show()\n",
        "\n",
        "# Observations: The states such as Vermont, Alaska and Hawai reported to have high interest rate whereas states like Montana, South Dakota have low interest rates"
      ],
      "execution_count": 79,
      "outputs": [
        {
          "output_type": "display_data",
          "data": {
            "image/png": "[encoded data removed]",
            "text/plain": [
              "<Figure size 1152x432 with 1 Axes>"
            ]
          },
          "metadata": {}
        }
      ]
    },
    {
      "cell_type": "code",
      "metadata": {
        "colab": {
          "base_uri": "https://localhost:8080/",
          "height": 519
        },
        "id": "jmCSPvE4SLnv",
        "outputId": "f7703693-5a59-419c-c032-01f6172f236c"
      },
      "source": [
        "# Bivariate Analysis - purpose of loan vs amount requested\n",
        "\n",
        "plt.figure(figsize=(14,8),facecolor='b')\n",
        "ax=sns.violinplot(y='Loan.Purpose', x='Amount.Requested', data =df)\n",
        "ax.set_title('Purpose of Loan vs Amount requested',fontsize=15,color='w')\n",
        "ax.set_ylabel('Loan.Purpose',fontsize=14,color = 'w')\n",
        "ax.set_xlabel('Amount.Requested',fontsize=14,color = 'w')\n",
        "plt.show()\n",
        "\n",
        "# Observations: Loan taken for small business, house, debt consolidation and credit card is observed to be evenly distributed\n"
      ],
      "execution_count": 80,
      "outputs": [
        {
          "output_type": "display_data",
          "data": {
            "image/png": "[encoded data removed]",
            "text/plain": [
              "<Figure size 1008x576 with 1 Axes>"
            ]
          },
          "metadata": {}
        }
      ]
    },
    {
      "cell_type": "code",
      "metadata": {
        "colab": {
          "base_uri": "https://localhost:8080/",
          "height": 162
        },
        "id": "w37c_QCR1CNI",
        "outputId": "17670784-70aa-4a78-ceb1-eb3add7c097f"
      },
      "source": [
        "df.head(3)"
      ],
      "execution_count": 81,
      "outputs": [
        {
          "output_type": "execute_result",
          "data": {
            "text/html": [
              "<div>\n",
              "<style scoped>\n",
              "    .dataframe tbody tr th:only-of-type {\n",
              "        vertical-align: middle;\n",
              "    }\n",
              "\n",
              "    .dataframe tbody tr th {\n",
              "        vertical-align: top;\n",
              "    }\n",
              "\n",
              "    .dataframe thead th {\n",
              "        text-align: right;\n",
              "    }\n",
              "</style>\n",
              "<table border=\"1\" class=\"dataframe\">\n",
              "  <thead>\n",
              "    <tr style=\"text-align: right;\">\n",
              "      <th></th>\n",
              "      <th>Amount.Requested</th>\n",
              "      <th>Interest.Rate</th>\n",
              "      <th>Loan.Length</th>\n",
              "      <th>Loan.Purpose</th>\n",
              "      <th>State</th>\n",
              "      <th>Home.Ownership</th>\n",
              "      <th>Monthly.Income</th>\n",
              "      <th>Inquiries.in.the.Last.6.Months</th>\n",
              "      <th>Employment.Length</th>\n",
              "      <th>FICO.average</th>\n",
              "    </tr>\n",
              "  </thead>\n",
              "  <tbody>\n",
              "    <tr>\n",
              "      <th>0</th>\n",
              "      <td>20000.0</td>\n",
              "      <td>8.90</td>\n",
              "      <td>36</td>\n",
              "      <td>debt_consolidation</td>\n",
              "      <td>SC</td>\n",
              "      <td>MORTGAGE</td>\n",
              "      <td>6541.67</td>\n",
              "      <td>2.0</td>\n",
              "      <td>0</td>\n",
              "      <td>737.0</td>\n",
              "    </tr>\n",
              "    <tr>\n",
              "      <th>1</th>\n",
              "      <td>19200.0</td>\n",
              "      <td>12.12</td>\n",
              "      <td>36</td>\n",
              "      <td>debt_consolidation</td>\n",
              "      <td>TX</td>\n",
              "      <td>MORTGAGE</td>\n",
              "      <td>4583.33</td>\n",
              "      <td>1.0</td>\n",
              "      <td>2</td>\n",
              "      <td>717.0</td>\n",
              "    </tr>\n",
              "    <tr>\n",
              "      <th>2</th>\n",
              "      <td>35000.0</td>\n",
              "      <td>21.98</td>\n",
              "      <td>60</td>\n",
              "      <td>debt_consolidation</td>\n",
              "      <td>CA</td>\n",
              "      <td>MORTGAGE</td>\n",
              "      <td>NaN</td>\n",
              "      <td>1.0</td>\n",
              "      <td>2</td>\n",
              "      <td>692.0</td>\n",
              "    </tr>\n",
              "  </tbody>\n",
              "</table>\n",
              "</div>"
            ],
            "text/plain": [
              "   Amount.Requested  Interest.Rate  ... Employment.Length FICO.average\n",
              "0           20000.0           8.90  ...                 0        737.0\n",
              "1           19200.0          12.12  ...                 2        717.0\n",
              "2           35000.0          21.98  ...                 2        692.0\n",
              "\n",
              "[3 rows x 10 columns]"
            ]
          },
          "metadata": {},
          "execution_count": 81
        }
      ]
    },
    {
      "cell_type": "code",
      "metadata": {
        "id": "I731XkeG1xl1"
      },
      "source": [
        "df.to_csv(\"pre_procesed.csv\", index=False)"
      ],
      "execution_count": 82,
      "outputs": []
    },
    {
      "cell_type": "code",
      "metadata": {
        "colab": {
          "base_uri": "https://localhost:8080/"
        },
        "id": "PZJMPm2hyFdk",
        "outputId": "f81508de-c8d3-4be4-acbf-7a80f212a854"
      },
      "source": [
        "df.isnull().sum()"
      ],
      "execution_count": 83,
      "outputs": [
        {
          "output_type": "execute_result",
          "data": {
            "text/plain": [
              "Amount.Requested                   1\n",
              "Interest.Rate                      0\n",
              "Loan.Length                        2\n",
              "Loan.Purpose                       1\n",
              "State                              1\n",
              "Home.Ownership                     1\n",
              "Monthly.Income                     9\n",
              "Inquiries.in.the.Last.6.Months     6\n",
              "Employment.Length                 78\n",
              "FICO.average                       1\n",
              "dtype: int64"
            ]
          },
          "metadata": {},
          "execution_count": 83
        }
      ]
    },
    {
      "cell_type": "code",
      "metadata": {
        "colab": {
          "base_uri": "https://localhost:8080/"
        },
        "id": "RbXGMHKUynkr",
        "outputId": "8af49e3c-6a26-4e71-aa92-2d2b9286d6eb"
      },
      "source": [
        "df.isnull().sum()/len(df)"
      ],
      "execution_count": 84,
      "outputs": [
        {
          "output_type": "execute_result",
          "data": {
            "text/plain": [
              "Amount.Requested                  0.0004\n",
              "Interest.Rate                     0.0000\n",
              "Loan.Length                       0.0008\n",
              "Loan.Purpose                      0.0004\n",
              "State                             0.0004\n",
              "Home.Ownership                    0.0004\n",
              "Monthly.Income                    0.0036\n",
              "Inquiries.in.the.Last.6.Months    0.0024\n",
              "Employment.Length                 0.0312\n",
              "FICO.average                      0.0004\n",
              "dtype: float64"
            ]
          },
          "metadata": {},
          "execution_count": 84
        }
      ]
    },
    {
      "cell_type": "code",
      "metadata": {
        "id": "gpMvT5wH0mTO"
      },
      "source": [
        "df['Employment.Length'] = df ['Employment.Length'].str.replace('.','0')"
      ],
      "execution_count": 85,
      "outputs": []
    },
    {
      "cell_type": "markdown",
      "metadata": {
        "id": "G6NPJwJ0yunj"
      },
      "source": [
        "Since the missing values are less than 1%, the observations can be dropped, for the purpose of project I have imputed the missing values using simple imputer and predicted using RandomForestRegressor"
      ]
    },
    {
      "cell_type": "code",
      "metadata": {
        "colab": {
          "base_uri": "https://localhost:8080/"
        },
        "id": "dFfwFsw_rhvn",
        "outputId": "513d068c-3ca4-4c4e-a485-e2b11a686e34"
      },
      "source": [
        "# Impute the mising values using simple imputer\n",
        "# Convert categorical into numerical with onehotencoder\n",
        "from sklearn.compose import ColumnTransformer\n",
        "from sklearn.pipeline import Pipeline\n",
        "from sklearn.impute import SimpleImputer\n",
        "from sklearn.preprocessing import OneHotEncoder\n",
        "\n",
        "df.dropna(subset=[\"Interest.Rate\"], inplace=True)\n",
        "\n",
        "# Modelling\n",
        "from sklearn.ensemble import RandomForestRegressor # instantiating randomforest regressor\n",
        "from sklearn.model_selection import train_test_split\n",
        "\n",
        "# Setup random seed\n",
        "import numpy as np\n",
        "np.random.seed(42)\n",
        "\n",
        "# Define different features and transformer pipelines\n",
        "categorical_features = [\"Loan.Length\", \"Loan.Purpose\",\"State\",\"Home.Ownership\",\"Employment.Length\"]\n",
        "categorical_transformer = Pipeline(steps=[\n",
        "    (\"imputer\", SimpleImputer(strategy=\"constant\", fill_value=\"missing\")),\n",
        "    (\"onehot\", OneHotEncoder(handle_unknown=\"ignore\"))])\n",
        "\n",
        "numeric_features = [\"Amount.Requested\",\"Monthly.Income\",\"Inquiries.in.the.Last.6.Months\",\"FICO.average\"]\n",
        "numeric_transformer = Pipeline(steps=[\n",
        "    (\"imputer\", SimpleImputer(strategy=\"mean\"))\n",
        "])\n",
        "\n",
        "# Setup preprocessing steps (fill missing values, then convert to numbers)\n",
        "preprocessor = ColumnTransformer(\n",
        "    transformers=[\n",
        "        (\"cat\", categorical_transformer, categorical_features),\n",
        "        (\"num\", numeric_transformer, numeric_features)],\n",
        "        \n",
        "        )\n",
        "\n",
        "# Create a preprocessing and modelling pipeline\n",
        "model = Pipeline(steps=[(\"preprocessor\", preprocessor),\n",
        "                        (\"model\", RandomForestRegressor())])\n",
        "\n",
        "X = df.drop(\"Interest.Rate\", axis=1)\n",
        "y = df[\"Interest.Rate\"]\n",
        "X_train, X_test, y_train, y_test=train_test_split(X,y,test_size=0.2)\n",
        "\n",
        "# Fit the model to the data and use it to make a prediction\n",
        "model.fit(X_train,y_train)\n",
        "\n",
        "# Evaluate the model\n",
        "model.score(X_test, y_test)"
      ],
      "execution_count": 86,
      "outputs": [
        {
          "output_type": "execute_result",
          "data": {
            "text/plain": [
              "0.7744678497333137"
            ]
          },
          "metadata": {},
          "execution_count": 86
        }
      ]
    },
    {
      "cell_type": "markdown",
      "metadata": {
        "id": "0AO2cBeq9gDW"
      },
      "source": [
        "# Hyperparameter tunings"
      ]
    },
    {
      "cell_type": "code",
      "metadata": {
        "id": "xSDWrOiF0qqR"
      },
      "source": [
        "# Proceeding with hyperparameter tuning to improve the quality of the model\n",
        "df = pd.read_csv(\"pre_procesed.csv\")"
      ],
      "execution_count": 87,
      "outputs": []
    },
    {
      "cell_type": "code",
      "metadata": {
        "colab": {
          "base_uri": "https://localhost:8080/",
          "height": 224
        },
        "id": "Z3t8-SXB19wl",
        "outputId": "f6527d60-e8d4-4028-dab5-b5d859d82154"
      },
      "source": [
        "df.head(5)"
      ],
      "execution_count": 88,
      "outputs": [
        {
          "output_type": "execute_result",
          "data": {
            "text/html": [
              "<div>\n",
              "<style scoped>\n",
              "    .dataframe tbody tr th:only-of-type {\n",
              "        vertical-align: middle;\n",
              "    }\n",
              "\n",
              "    .dataframe tbody tr th {\n",
              "        vertical-align: top;\n",
              "    }\n",
              "\n",
              "    .dataframe thead th {\n",
              "        text-align: right;\n",
              "    }\n",
              "</style>\n",
              "<table border=\"1\" class=\"dataframe\">\n",
              "  <thead>\n",
              "    <tr style=\"text-align: right;\">\n",
              "      <th></th>\n",
              "      <th>Amount.Requested</th>\n",
              "      <th>Interest.Rate</th>\n",
              "      <th>Loan.Length</th>\n",
              "      <th>Loan.Purpose</th>\n",
              "      <th>State</th>\n",
              "      <th>Home.Ownership</th>\n",
              "      <th>Monthly.Income</th>\n",
              "      <th>Inquiries.in.the.Last.6.Months</th>\n",
              "      <th>Employment.Length</th>\n",
              "      <th>FICO.average</th>\n",
              "    </tr>\n",
              "  </thead>\n",
              "  <tbody>\n",
              "    <tr>\n",
              "      <th>0</th>\n",
              "      <td>20000.0</td>\n",
              "      <td>8.90</td>\n",
              "      <td>36.0</td>\n",
              "      <td>debt_consolidation</td>\n",
              "      <td>SC</td>\n",
              "      <td>MORTGAGE</td>\n",
              "      <td>6541.67</td>\n",
              "      <td>2.0</td>\n",
              "      <td>0</td>\n",
              "      <td>737.0</td>\n",
              "    </tr>\n",
              "    <tr>\n",
              "      <th>1</th>\n",
              "      <td>19200.0</td>\n",
              "      <td>12.12</td>\n",
              "      <td>36.0</td>\n",
              "      <td>debt_consolidation</td>\n",
              "      <td>TX</td>\n",
              "      <td>MORTGAGE</td>\n",
              "      <td>4583.33</td>\n",
              "      <td>1.0</td>\n",
              "      <td>2</td>\n",
              "      <td>717.0</td>\n",
              "    </tr>\n",
              "    <tr>\n",
              "      <th>2</th>\n",
              "      <td>35000.0</td>\n",
              "      <td>21.98</td>\n",
              "      <td>60.0</td>\n",
              "      <td>debt_consolidation</td>\n",
              "      <td>CA</td>\n",
              "      <td>MORTGAGE</td>\n",
              "      <td>NaN</td>\n",
              "      <td>1.0</td>\n",
              "      <td>2</td>\n",
              "      <td>692.0</td>\n",
              "    </tr>\n",
              "    <tr>\n",
              "      <th>3</th>\n",
              "      <td>10000.0</td>\n",
              "      <td>9.99</td>\n",
              "      <td>36.0</td>\n",
              "      <td>debt_consolidation</td>\n",
              "      <td>KS</td>\n",
              "      <td>MORTGAGE</td>\n",
              "      <td>3833.33</td>\n",
              "      <td>0.0</td>\n",
              "      <td>5</td>\n",
              "      <td>697.0</td>\n",
              "    </tr>\n",
              "    <tr>\n",
              "      <th>4</th>\n",
              "      <td>12000.0</td>\n",
              "      <td>11.71</td>\n",
              "      <td>36.0</td>\n",
              "      <td>credit_card</td>\n",
              "      <td>NJ</td>\n",
              "      <td>RENT</td>\n",
              "      <td>3195.00</td>\n",
              "      <td>0.0</td>\n",
              "      <td>9</td>\n",
              "      <td>697.0</td>\n",
              "    </tr>\n",
              "  </tbody>\n",
              "</table>\n",
              "</div>"
            ],
            "text/plain": [
              "   Amount.Requested  Interest.Rate  ...  Employment.Length FICO.average\n",
              "0           20000.0           8.90  ...                  0        737.0\n",
              "1           19200.0          12.12  ...                  2        717.0\n",
              "2           35000.0          21.98  ...                  2        692.0\n",
              "3           10000.0           9.99  ...                  5        697.0\n",
              "4           12000.0          11.71  ...                  9        697.0\n",
              "\n",
              "[5 rows x 10 columns]"
            ]
          },
          "metadata": {},
          "execution_count": 88
        }
      ]
    },
    {
      "cell_type": "code",
      "metadata": {
        "colab": {
          "base_uri": "https://localhost:8080/"
        },
        "id": "c7NeNUXI1-84",
        "outputId": "7ee06b47-0355-4ff4-caba-9aa931683f7f"
      },
      "source": [
        "df.info()"
      ],
      "execution_count": 89,
      "outputs": [
        {
          "output_type": "stream",
          "name": "stdout",
          "text": [
            "<class 'pandas.core.frame.DataFrame'>\n",
            "RangeIndex: 2500 entries, 0 to 2499\n",
            "Data columns (total 10 columns):\n",
            " #   Column                          Non-Null Count  Dtype  \n",
            "---  ------                          --------------  -----  \n",
            " 0   Amount.Requested                2499 non-null   float64\n",
            " 1   Interest.Rate                   2500 non-null   float64\n",
            " 2   Loan.Length                     2498 non-null   float64\n",
            " 3   Loan.Purpose                    2499 non-null   object \n",
            " 4   State                           2499 non-null   object \n",
            " 5   Home.Ownership                  2499 non-null   object \n",
            " 6   Monthly.Income                  2491 non-null   float64\n",
            " 7   Inquiries.in.the.Last.6.Months  2494 non-null   float64\n",
            " 8   Employment.Length               2422 non-null   object \n",
            " 9   FICO.average                    2499 non-null   float64\n",
            "dtypes: float64(6), object(4)\n",
            "memory usage: 195.4+ KB\n"
          ]
        }
      ]
    },
    {
      "cell_type": "code",
      "metadata": {
        "id": "JuYxWRwC2Dlk"
      },
      "source": [
        "for label, content in df.items():\n",
        "  if pd.api.types.is_string_dtype(content):\n",
        "    df[label]=content.astype(\"category\").cat.as_ordered()"
      ],
      "execution_count": 90,
      "outputs": []
    },
    {
      "cell_type": "code",
      "metadata": {
        "colab": {
          "base_uri": "https://localhost:8080/"
        },
        "id": "tKyMXeTf2I6l",
        "outputId": "7350f2ca-de19-4191-faef-264b1b14a1f0"
      },
      "source": [
        "# Check missing values in categorical data\n",
        "for label, content in df.items():\n",
        "  if pd.api.types.is_categorical_dtype(content):\n",
        "    if pd.isnull(content).sum():\n",
        "      print(label)"
      ],
      "execution_count": 91,
      "outputs": [
        {
          "output_type": "stream",
          "name": "stdout",
          "text": [
            "Loan.Purpose\n",
            "State\n",
            "Home.Ownership\n",
            "Employment.Length\n"
          ]
        }
      ]
    },
    {
      "cell_type": "code",
      "metadata": {
        "id": "cufY5uJU2ODF"
      },
      "source": [
        "# Fill categorical data\n",
        "for label, content in df.items():\n",
        "  if not pd.api.types.is_numeric_dtype(content):\n",
        "    df[label]=pd.Categorical(content).codes+1"
      ],
      "execution_count": 92,
      "outputs": []
    },
    {
      "cell_type": "code",
      "metadata": {
        "colab": {
          "base_uri": "https://localhost:8080/"
        },
        "id": "S4YbQ5LT2bG0",
        "outputId": "4af01b34-b345-4349-ab71-74a250283acd"
      },
      "source": [
        "df.isnull().sum()"
      ],
      "execution_count": 93,
      "outputs": [
        {
          "output_type": "execute_result",
          "data": {
            "text/plain": [
              "Amount.Requested                  1\n",
              "Interest.Rate                     0\n",
              "Loan.Length                       2\n",
              "Loan.Purpose                      0\n",
              "State                             0\n",
              "Home.Ownership                    0\n",
              "Monthly.Income                    9\n",
              "Inquiries.in.the.Last.6.Months    6\n",
              "Employment.Length                 0\n",
              "FICO.average                      1\n",
              "dtype: int64"
            ]
          },
          "metadata": {},
          "execution_count": 93
        }
      ]
    },
    {
      "cell_type": "code",
      "metadata": {
        "id": "ie_G5mGy2QaS"
      },
      "source": [
        "# drop the remaining observations as it doesnt affect the results\n",
        "df = df.dropna()"
      ],
      "execution_count": 94,
      "outputs": []
    },
    {
      "cell_type": "code",
      "metadata": {
        "colab": {
          "base_uri": "https://localhost:8080/"
        },
        "id": "lz0rQI6H2hKw",
        "outputId": "d65c5395-73f8-4909-bac0-e59493944151"
      },
      "source": [
        "# Make predictions using RandomForestRegressor and estimate using different metrics\n",
        "X = df.drop(\"Interest.Rate\", axis=1)\n",
        "y = df[\"Interest.Rate\"]\n",
        "from sklearn.model_selection import train_test_split\n",
        "X_train, X_test, y_train, y_test = train_test_split(X,y,test_size=0.2)\n",
        "\n",
        "from sklearn.ensemble import RandomForestRegressor\n",
        "model = RandomForestRegressor()\n",
        "model.fit(X_train, y_train)\n",
        "y_preds = model.predict(X_test)\n",
        "\n",
        "# R2\n",
        "from sklearn.metrics import r2_score\n",
        "print(r2_score(y_test,y_preds))\n",
        "\n",
        "# MAE\n",
        "from sklearn.metrics import mean_absolute_error\n",
        "print(mean_absolute_error(y_test,y_preds))\n",
        "\n",
        "# MSE\n",
        "from sklearn.metrics import mean_squared_error\n",
        "print(mean_absolute_error(y_test,y_preds))"
      ],
      "execution_count": 95,
      "outputs": [
        {
          "output_type": "stream",
          "name": "stdout",
          "text": [
            "0.7506066753705796\n",
            "1.5191937625754526\n",
            "1.5191937625754526\n"
          ]
        }
      ]
    },
    {
      "cell_type": "code",
      "metadata": {
        "colab": {
          "base_uri": "https://localhost:8080/"
        },
        "id": "zYNFryZK5Zc_",
        "outputId": "890a389d-ecbd-4bbc-8d78-32835ab77af9"
      },
      "source": [
        "# Cross validation\n",
        "from sklearn.model_selection import cross_val_score\n",
        "np.random.seed(42)\n",
        "for i in range(10, 100, 10):\n",
        "    print(f\"Trying model with {i} estimators...\")\n",
        "    model = RandomForestRegressor(n_estimators=i).fit(X_train, y_train)\n",
        "    print(f\"Model accruacy on test set: {model.score(X_test, y_test)}\")\n",
        "    print(f\"Cross-validation score: {np.mean(cross_val_score(model, X, y, cv=5)) * 100}%\")\n",
        "    print(\"\")"
      ],
      "execution_count": 96,
      "outputs": [
        {
          "output_type": "stream",
          "name": "stdout",
          "text": [
            "Trying model with 10 estimators...\n",
            "Model accruacy on test set: 0.7310114909524263\n",
            "Cross-validation score: 76.3910211187248%\n",
            "\n",
            "Trying model with 20 estimators...\n",
            "Model accruacy on test set: 0.7498518125174316\n",
            "Cross-validation score: 77.49667869014628%\n",
            "\n",
            "Trying model with 30 estimators...\n",
            "Model accruacy on test set: 0.7538154871873018\n",
            "Cross-validation score: 78.25282242708066%\n",
            "\n",
            "Trying model with 40 estimators...\n",
            "Model accruacy on test set: 0.7507353343862659\n",
            "Cross-validation score: 78.32068494959879%\n",
            "\n",
            "Trying model with 50 estimators...\n",
            "Model accruacy on test set: 0.7524699612414607\n",
            "Cross-validation score: 78.19229638391582%\n",
            "\n",
            "Trying model with 60 estimators...\n",
            "Model accruacy on test set: 0.7526109989745845\n",
            "Cross-validation score: 78.01370162969367%\n",
            "\n",
            "Trying model with 70 estimators...\n",
            "Model accruacy on test set: 0.7477514584430445\n",
            "Cross-validation score: 78.4961775196884%\n",
            "\n",
            "Trying model with 80 estimators...\n",
            "Model accruacy on test set: 0.747875989798723\n",
            "Cross-validation score: 78.28994973796394%\n",
            "\n",
            "Trying model with 90 estimators...\n",
            "Model accruacy on test set: 0.7449712829489864\n",
            "Cross-validation score: 78.21667886351976%\n",
            "\n"
          ]
        }
      ]
    },
    {
      "cell_type": "code",
      "metadata": {
        "colab": {
          "base_uri": "https://localhost:8080/"
        },
        "id": "1iwO3g3_2rmx",
        "outputId": "1f1a9219-2e80-437c-f7a9-2226109915fe"
      },
      "source": [
        "# Initiate hyperparameter tuning\n",
        "# Define grid of hyperparameters\n",
        "from sklearn.model_selection import RandomizedSearchCV\n",
        "grid = {\"n_estimators\": [10, 100, 200, 500, 1000, 1200],\n",
        "        \"max_depth\": [None, 5, 10, 20, 30],\n",
        "        \"max_features\": [\"auto\", \"sqrt\"],\n",
        "        \"min_samples_split\": [2, 4, 6],\n",
        "        \"min_samples_leaf\": [1, 2, 4]}\n",
        "\n",
        "# Split into train and test\n",
        "X_train, X_test, y_train, y_test = train_test_split(X,y, test_size=0.2)\n",
        "clf = RandomForestRegressor(n_jobs=1)\n",
        "\n",
        "# Setup RandomizedSearchCV\n",
        "rs_clf = RandomizedSearchCV(estimator = clf,\n",
        "                            param_distributions=grid,\n",
        "                            n_iter=10,\n",
        "                            cv=5,\n",
        "                            verbose=2)\n",
        "\n",
        "# Fit the RandomizedSearchCV\n",
        "rs_clf.fit(X_train,y_train);\n",
        "\n",
        "\n",
        "# Scoring \n",
        "rs_clf.score(X_test,y_test)"
      ],
      "execution_count": 97,
      "outputs": [
        {
          "output_type": "stream",
          "name": "stdout",
          "text": [
            "Fitting 5 folds for each of 10 candidates, totalling 50 fits\n",
            "[CV] END max_depth=30, max_features=sqrt, min_samples_leaf=1, min_samples_split=4, n_estimators=1000; total time=   3.4s\n",
            "[CV] END max_depth=30, max_features=sqrt, min_samples_leaf=1, min_samples_split=4, n_estimators=1000; total time=   3.4s\n",
            "[CV] END max_depth=30, max_features=sqrt, min_samples_leaf=1, min_samples_split=4, n_estimators=1000; total time=   3.2s\n",
            "[CV] END max_depth=30, max_features=sqrt, min_samples_leaf=1, min_samples_split=4, n_estimators=1000; total time=   3.3s\n",
            "[CV] END max_depth=30, max_features=sqrt, min_samples_leaf=1, min_samples_split=4, n_estimators=1000; total time=   3.4s\n",
            "[CV] END max_depth=20, max_features=sqrt, min_samples_leaf=1, min_samples_split=6, n_estimators=1000; total time=   3.1s\n",
            "[CV] END max_depth=20, max_features=sqrt, min_samples_leaf=1, min_samples_split=6, n_estimators=1000; total time=   2.9s\n",
            "[CV] END max_depth=20, max_features=sqrt, min_samples_leaf=1, min_samples_split=6, n_estimators=1000; total time=   3.1s\n",
            "[CV] END max_depth=20, max_features=sqrt, min_samples_leaf=1, min_samples_split=6, n_estimators=1000; total time=   2.9s\n",
            "[CV] END max_depth=20, max_features=sqrt, min_samples_leaf=1, min_samples_split=6, n_estimators=1000; total time=   2.8s\n",
            "[CV] END max_depth=5, max_features=auto, min_samples_leaf=2, min_samples_split=4, n_estimators=200; total time=   0.6s\n",
            "[CV] END max_depth=5, max_features=auto, min_samples_leaf=2, min_samples_split=4, n_estimators=200; total time=   0.6s\n",
            "[CV] END max_depth=5, max_features=auto, min_samples_leaf=2, min_samples_split=4, n_estimators=200; total time=   0.6s\n",
            "[CV] END max_depth=5, max_features=auto, min_samples_leaf=2, min_samples_split=4, n_estimators=200; total time=   0.6s\n",
            "[CV] END max_depth=5, max_features=auto, min_samples_leaf=2, min_samples_split=4, n_estimators=200; total time=   0.6s\n",
            "[CV] END max_depth=30, max_features=sqrt, min_samples_leaf=4, min_samples_split=2, n_estimators=200; total time=   0.5s\n",
            "[CV] END max_depth=30, max_features=sqrt, min_samples_leaf=4, min_samples_split=2, n_estimators=200; total time=   0.5s\n",
            "[CV] END max_depth=30, max_features=sqrt, min_samples_leaf=4, min_samples_split=2, n_estimators=200; total time=   0.5s\n",
            "[CV] END max_depth=30, max_features=sqrt, min_samples_leaf=4, min_samples_split=2, n_estimators=200; total time=   0.5s\n",
            "[CV] END max_depth=30, max_features=sqrt, min_samples_leaf=4, min_samples_split=2, n_estimators=200; total time=   0.5s\n",
            "[CV] END max_depth=None, max_features=auto, min_samples_leaf=4, min_samples_split=2, n_estimators=1000; total time=   4.6s\n",
            "[CV] END max_depth=None, max_features=auto, min_samples_leaf=4, min_samples_split=2, n_estimators=1000; total time=   5.4s\n",
            "[CV] END max_depth=None, max_features=auto, min_samples_leaf=4, min_samples_split=2, n_estimators=1000; total time=   4.7s\n",
            "[CV] END max_depth=None, max_features=auto, min_samples_leaf=4, min_samples_split=2, n_estimators=1000; total time=   4.8s\n",
            "[CV] END max_depth=None, max_features=auto, min_samples_leaf=4, min_samples_split=2, n_estimators=1000; total time=   4.4s\n",
            "[CV] END max_depth=None, max_features=sqrt, min_samples_leaf=2, min_samples_split=2, n_estimators=500; total time=   1.4s\n",
            "[CV] END max_depth=None, max_features=sqrt, min_samples_leaf=2, min_samples_split=2, n_estimators=500; total time=   1.4s\n",
            "[CV] END max_depth=None, max_features=sqrt, min_samples_leaf=2, min_samples_split=2, n_estimators=500; total time=   1.5s\n",
            "[CV] END max_depth=None, max_features=sqrt, min_samples_leaf=2, min_samples_split=2, n_estimators=500; total time=   1.6s\n",
            "[CV] END max_depth=None, max_features=sqrt, min_samples_leaf=2, min_samples_split=2, n_estimators=500; total time=   1.6s\n",
            "[CV] END max_depth=None, max_features=sqrt, min_samples_leaf=2, min_samples_split=2, n_estimators=1200; total time=   3.5s\n",
            "[CV] END max_depth=None, max_features=sqrt, min_samples_leaf=2, min_samples_split=2, n_estimators=1200; total time=   3.6s\n",
            "[CV] END max_depth=None, max_features=sqrt, min_samples_leaf=2, min_samples_split=2, n_estimators=1200; total time=   3.6s\n",
            "[CV] END max_depth=None, max_features=sqrt, min_samples_leaf=2, min_samples_split=2, n_estimators=1200; total time=   3.5s\n",
            "[CV] END max_depth=None, max_features=sqrt, min_samples_leaf=2, min_samples_split=2, n_estimators=1200; total time=   3.5s\n",
            "[CV] END max_depth=None, max_features=auto, min_samples_leaf=2, min_samples_split=6, n_estimators=200; total time=   1.0s\n",
            "[CV] END max_depth=None, max_features=auto, min_samples_leaf=2, min_samples_split=6, n_estimators=200; total time=   1.0s\n",
            "[CV] END max_depth=None, max_features=auto, min_samples_leaf=2, min_samples_split=6, n_estimators=200; total time=   1.0s\n",
            "[CV] END max_depth=None, max_features=auto, min_samples_leaf=2, min_samples_split=6, n_estimators=200; total time=   1.0s\n",
            "[CV] END max_depth=None, max_features=auto, min_samples_leaf=2, min_samples_split=6, n_estimators=200; total time=   1.0s\n",
            "[CV] END max_depth=20, max_features=sqrt, min_samples_leaf=2, min_samples_split=2, n_estimators=10; total time=   0.0s\n",
            "[CV] END max_depth=20, max_features=sqrt, min_samples_leaf=2, min_samples_split=2, n_estimators=10; total time=   0.0s\n",
            "[CV] END max_depth=20, max_features=sqrt, min_samples_leaf=2, min_samples_split=2, n_estimators=10; total time=   0.0s\n",
            "[CV] END max_depth=20, max_features=sqrt, min_samples_leaf=2, min_samples_split=2, n_estimators=10; total time=   0.0s\n",
            "[CV] END max_depth=20, max_features=sqrt, min_samples_leaf=2, min_samples_split=2, n_estimators=10; total time=   0.0s\n",
            "[CV] END max_depth=None, max_features=sqrt, min_samples_leaf=4, min_samples_split=4, n_estimators=10; total time=   0.0s\n",
            "[CV] END max_depth=None, max_features=sqrt, min_samples_leaf=4, min_samples_split=4, n_estimators=10; total time=   0.0s\n",
            "[CV] END max_depth=None, max_features=sqrt, min_samples_leaf=4, min_samples_split=4, n_estimators=10; total time=   0.0s\n",
            "[CV] END max_depth=None, max_features=sqrt, min_samples_leaf=4, min_samples_split=4, n_estimators=10; total time=   0.0s\n",
            "[CV] END max_depth=None, max_features=sqrt, min_samples_leaf=4, min_samples_split=4, n_estimators=10; total time=   0.0s\n"
          ]
        },
        {
          "output_type": "execute_result",
          "data": {
            "text/plain": [
              "0.8047519021487463"
            ]
          },
          "metadata": {},
          "execution_count": 97
        }
      ]
    },
    {
      "cell_type": "code",
      "metadata": {
        "colab": {
          "base_uri": "https://localhost:8080/"
        },
        "id": "zgMZaSyV23B0",
        "outputId": "9b72b7d0-fe7d-418f-f54d-6ef67829e673"
      },
      "source": [
        "# Find the best hyperparameters\n",
        "print(rs_clf.best_params_)"
      ],
      "execution_count": 98,
      "outputs": [
        {
          "output_type": "stream",
          "name": "stdout",
          "text": [
            "{'n_estimators': 1000, 'min_samples_split': 4, 'min_samples_leaf': 1, 'max_features': 'sqrt', 'max_depth': 30}\n"
          ]
        }
      ]
    },
    {
      "cell_type": "code",
      "metadata": {
        "colab": {
          "base_uri": "https://localhost:8080/"
        },
        "id": "wRWjR1u-3cy5",
        "outputId": "54532a37-56de-4772-fcc0-d078ff2f8ea9"
      },
      "source": [
        "# Quality of the model has been increased with hyperparameter tunings, try with basic regression estimators and compare the quality of the models\n",
        "# Instantiate ridge regressor\n",
        "from sklearn.linear_model import Ridge # Estimators selected based on sklearn-algorithm cheat sheet\n",
        "\n",
        "# Setup random seed\n",
        "np.random.seed(42)\n",
        "\n",
        "# Create the data\n",
        "X = df.drop(\"Interest.Rate\", axis=1)\n",
        "y = df[\"Interest.Rate\"]\n",
        "\n",
        "# Split the data\n",
        "from sklearn.model_selection import train_test_split\n",
        "X_train, X_test, y_train, y_test = train_test_split(X,y,test_size=0.2)\n",
        "\n",
        "# Instantiate and fit the model\n",
        "model = Ridge()\n",
        "model.fit(X_train, y_train)\n",
        "\n",
        "# Score\n",
        "model.score(X_test,y_test)"
      ],
      "execution_count": 99,
      "outputs": [
        {
          "output_type": "execute_result",
          "data": {
            "text/plain": [
              "0.2631247482267226"
            ]
          },
          "metadata": {},
          "execution_count": 99
        }
      ]
    },
    {
      "cell_type": "code",
      "metadata": {
        "colab": {
          "base_uri": "https://localhost:8080/"
        },
        "id": "PL76K6ZZ3-74",
        "outputId": "c1916aee-44fc-46bd-9903-56f57181a189"
      },
      "source": [
        "# Instantiate ridge regressor\n",
        "from sklearn.svm import SVR\n",
        " \n",
        "# Setup random seed\n",
        "np.random.seed(42)\n",
        "\n",
        "# Create the data\n",
        "X = df.drop(\"Interest.Rate\", axis=1)\n",
        "y = df[\"Interest.Rate\"]\n",
        "\n",
        "\n",
        "# Split the data\n",
        "from sklearn.model_selection import train_test_split\n",
        "X_train, X_test, y_train, y_test = train_test_split(X,y,test_size=0.2)\n",
        "\n",
        "# Instantiate and fit the model\n",
        "model = SVR(kernel='rbf')\n",
        "model.fit(X_train, y_train)\n",
        "\n",
        "# Score\n",
        "model.score(X_test,y_test)"
      ],
      "execution_count": 100,
      "outputs": [
        {
          "output_type": "execute_result",
          "data": {
            "text/plain": [
              "0.09343810444146028"
            ]
          },
          "metadata": {},
          "execution_count": 100
        }
      ]
    },
    {
      "cell_type": "markdown",
      "metadata": {
        "id": "7JaH2tzv5tSz"
      },
      "source": [
        "Overall ensemble regressor shows higher accuracy with the value of 81% comparing to ridge regressor and SVR\n"
      ]
    },
    {
      "cell_type": "markdown",
      "metadata": {
        "id": "qbiQhjWv5zJU"
      },
      "source": [
        "Save a model for later use"
      ]
    },
    {
      "cell_type": "code",
      "metadata": {
        "id": "P1HyRLDw53Zq"
      },
      "source": [
        "import pickle\n",
        "\n",
        "# Save trained model to file\n",
        "pickle.dump(clf, open(\"random_forest_model_1.pkl\", \"wb\"))"
      ],
      "execution_count": 101,
      "outputs": []
    },
    {
      "cell_type": "code",
      "metadata": {
        "id": "Ygn5JMiR6HPX"
      },
      "source": [
        "# Load a saved pickle model\n",
        "loaded_pickle_model = pickle.load(open(\"random_forest_model_1.pkl\", \"rb\"))\n"
      ],
      "execution_count": 102,
      "outputs": []
    },
    {
      "cell_type": "code",
      "metadata": {
        "id": "DSfnFogs6cge"
      },
      "source": [
        ""
      ],
      "execution_count": 102,
      "outputs": []
    }
  ]
}